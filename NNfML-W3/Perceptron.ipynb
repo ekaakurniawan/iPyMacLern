{
 "cells": [
  {
   "cell_type": "markdown",
   "metadata": {},
   "source": [
    "Part of [iPyMacLern](http://ekaakurniawan.github.io/iPyMacLern/) project."
   ]
  },
  {
   "cell_type": "markdown",
   "metadata": {},
   "source": [
    "> Copyright (C) 2016 by Eka A. Kurniawan\n",
    "> \n",
    "> eka.a.kurniawan(ta)gmail(tod)com\n",
    "> \n",
    "> This program is free software: you can redistribute it and/or modify\n",
    "> it under the terms of the GNU General Public License as published by\n",
    "> the Free Software Foundation, either version 3 of the License, or\n",
    "> (at your option) any later version.\n",
    "> \n",
    "> This program is distributed in the hope that it will be useful,\n",
    "> but WITHOUT ANY WARRANTY; without even the implied warranty of\n",
    "> MERCHANTABILITY or FITNESS FOR A PARTICULAR PURPOSE.  See the\n",
    "> GNU General Public License for more details.\n",
    "> \n",
    "> You should have received a copy of the GNU General Public License\n",
    "> along with this program.  If not, see <http://www.gnu.org/licenses/>."
   ]
  },
  {
   "cell_type": "markdown",
   "metadata": {},
   "source": [
    "### Display Settings"
   ]
  },
  {
   "cell_type": "code",
   "execution_count": 1,
   "metadata": {
    "collapsed": true
   },
   "outputs": [],
   "source": [
    "# Display graph inline\n",
    "%matplotlib inline\n",
    "\n",
    "# Display graph in 'retina' format for Mac with retina display. Others, use PNG or SVG format.\n",
    "%config InlineBackend.figure_format = 'retina'\n",
    "#%config InlineBackend.figure_format = 'PNG'\n",
    "#%config InlineBackend.figure_format = 'SVG'"
   ]
  },
  {
   "cell_type": "markdown",
   "metadata": {},
   "source": [
    "### Tested On"
   ]
  },
  {
   "cell_type": "code",
   "execution_count": 2,
   "metadata": {
    "collapsed": false
   },
   "outputs": [
    {
     "name": "stdout",
     "output_type": "stream",
     "text": [
      "Python 3.5.2\n"
     ]
    }
   ],
   "source": [
    "import sys\n",
    "print(\"Python %d.%d.%d\" % (sys.version_info.major, \\\n",
    "                           sys.version_info.minor, \\\n",
    "                           sys.version_info.micro))"
   ]
  },
  {
   "cell_type": "code",
   "execution_count": 3,
   "metadata": {
    "collapsed": false
   },
   "outputs": [
    {
     "name": "stdout",
     "output_type": "stream",
     "text": [
      "NumPy 1.11.1\n"
     ]
    }
   ],
   "source": [
    "import numpy as np\n",
    "print(\"NumPy %s\" % np.__version__)"
   ]
  },
  {
   "cell_type": "code",
   "execution_count": 4,
   "metadata": {
    "collapsed": false
   },
   "outputs": [
    {
     "name": "stdout",
     "output_type": "stream",
     "text": [
      "matplotlib 1.5.1\n"
     ]
    }
   ],
   "source": [
    "import matplotlib\n",
    "import matplotlib.pyplot as plt\n",
    "print(\"matplotlib %s\" % matplotlib.__version__)"
   ]
  },
  {
   "cell_type": "code",
   "execution_count": 5,
   "metadata": {
    "collapsed": false
   },
   "outputs": [
    {
     "name": "stdout",
     "output_type": "stream",
     "text": [
      "SciPy 0.18.0\n"
     ]
    }
   ],
   "source": [
    "import scipy\n",
    "import scipy.io as sio\n",
    "print(\"SciPy %s\" % scipy.__version__)"
   ]
  },
  {
   "cell_type": "markdown",
   "metadata": {},
   "source": [
    "---"
   ]
  },
  {
   "cell_type": "markdown",
   "metadata": {},
   "source": [
    "# Table of Contents"
   ]
  },
  {
   "cell_type": "markdown",
   "metadata": {},
   "source": [
    "- [Plots](#Plots)\n",
    "- [Dataset](#Dataset)\n",
    "- [Model](#Model)\n",
    "- [Learning Algorithm](#Learning-Algorithm)\n",
    "- [Training](#Training)\n",
    "- [References](#References)"
   ]
  },
  {
   "cell_type": "markdown",
   "metadata": {},
   "source": [
    "---"
   ]
  },
  {
   "cell_type": "markdown",
   "metadata": {},
   "source": [
    "# Plots"
   ]
  },
  {
   "cell_type": "markdown",
   "metadata": {},
   "source": [
    "Plot classification boundary."
   ]
  },
  {
   "cell_type": "code",
   "execution_count": 6,
   "metadata": {
    "collapsed": true
   },
   "outputs": [],
   "source": [
    "def plot_classification_boundary(X, w, J, labels):\n",
    "    # Get indices for negative/positive labels and true/false cost (J)\n",
    "    neg_label_idx = np.where(labels == False)[0]\n",
    "    pos_label_idx = np.where(labels == True)[0]\n",
    "    true_cost_idx = np.where(J == True)[0]\n",
    "    false_cost_idx = np.where(J == False)[0]\n",
    "    \n",
    "    # Intersect indives for negative/positive labels to the true/false cost (J)\n",
    "    neg_true_idx = np.intersect1d(neg_label_idx, true_cost_idx)\n",
    "    neg_false_idx = np.intersect1d(neg_label_idx, false_cost_idx)\n",
    "    pos_true_idx = np.intersect1d(pos_label_idx, true_cost_idx)\n",
    "    pos_false_idx = np.intersect1d(pos_label_idx, false_cost_idx)\n",
    "    \n",
    "    # Plot:\n",
    "    # - Negative labels with circle marker\n",
    "    # - Positive labels with triangle marker\n",
    "    # - True cost with green color\n",
    "    # - False cost with red color\n",
    "    # - Boundary in balck dashed line\n",
    "    plt.scatter(X[neg_true_idx,0], X[neg_true_idx,1], marker='o', color='green', s=80)\n",
    "    plt.scatter(X[neg_false_idx,0], X[neg_false_idx,1], marker='o', color='red', s=80)\n",
    "    plt.scatter(X[pos_true_idx,0], X[pos_true_idx,1], marker='^', color='green', s=80)\n",
    "    plt.scatter(X[pos_false_idx,0], X[pos_false_idx,1], marker='^', color='red', s=80)\n",
    "    if len(w):\n",
    "        plt.plot([-5.0,5.0], [(-w[2]+5*w[0])/w[1],(-w[2]-5*w[0])/w[1]], '--', color='black')\n",
    "\n",
    "    # Limit the plot in between -1 and 1 boundary for both x and y axis.\n",
    "    plt.ylim([-1.0,1.0])\n",
    "    plt.xlim([-1.0,1.0])\n",
    "    \n",
    "    plt.show()"
   ]
  },
  {
   "cell_type": "markdown",
   "metadata": {},
   "source": [
    "Plot training history."
   ]
  },
  {
   "cell_type": "code",
   "execution_count": 7,
   "metadata": {
    "collapsed": true
   },
   "outputs": [],
   "source": [
    "def plot_training_history(ttl_errors_history, w_dist_history):\n",
    "    iteration_vector = np.arange(1, len(ttl_errors_history) + 1)\n",
    "    \n",
    "    fig, ax1 = plt.subplots()\n",
    "    ax1.set_xlabel('Iteration')\n",
    "\n",
    "    if len(w_dist_history):\n",
    "        ax1.plot(iteration_vector, w_dist_history, marker='o', color='blue')\n",
    "        ax1.set_ylabel('Distance', color='blue')\n",
    "\n",
    "    ax2 = ax1.twinx()\n",
    "    ax2.plot(iteration_vector, ttl_errors_history, marker='*', color='red')\n",
    "    ax2.set_ylabel('Number of errors', color='red')\n",
    "\n",
    "    plt.show()"
   ]
  },
  {
   "cell_type": "markdown",
   "metadata": {},
   "source": [
    "---"
   ]
  },
  {
   "cell_type": "markdown",
   "metadata": {},
   "source": [
    "# Dataset"
   ]
  },
  {
   "cell_type": "markdown",
   "metadata": {},
   "source": [
    "Load dataset from MATLAB formated data.$^{[1]}$"
   ]
  },
  {
   "cell_type": "code",
   "execution_count": 8,
   "metadata": {
    "collapsed": false
   },
   "outputs": [],
   "source": [
    "dataset = sio.loadmat('dataset1.mat')"
   ]
  },
  {
   "cell_type": "code",
   "execution_count": 9,
   "metadata": {
    "collapsed": false
   },
   "outputs": [
    {
     "data": {
      "text/plain": [
       "{'__globals__': [],\n",
       " '__header__': b'MATLAB 5.0 MAT-file, written by Octave 3.2.4, 2012-10-03 23:31:57 UTC',\n",
       " '__version__': '1.0',\n",
       " 'neg_examples_nobias': array([[-0.80857143,  0.8372093 ],\n",
       "        [ 0.35714286,  0.85049834],\n",
       "        [-0.75142857, -0.73089701],\n",
       "        [-0.3       ,  0.12624585]]),\n",
       " 'pos_examples_nobias': array([[ 0.87142857,  0.62458472],\n",
       "        [-0.02      , -0.92358804],\n",
       "        [ 0.36285714, -0.31893688],\n",
       "        [ 0.88857143, -0.87043189]]),\n",
       " 'w_gen_feas': array([[ 4.3496526 ],\n",
       "        [-2.60997235],\n",
       "        [-0.69414749]]),\n",
       " 'w_init': array([[-0.62170147],\n",
       "        [ 0.76091527],\n",
       "        [ 0.77187205]])}"
      ]
     },
     "execution_count": 9,
     "metadata": {},
     "output_type": "execute_result"
    }
   ],
   "source": [
    "dataset"
   ]
  },
  {
   "cell_type": "markdown",
   "metadata": {},
   "source": [
    "### Features"
   ]
  },
  {
   "cell_type": "markdown",
   "metadata": {},
   "source": [
    "Get total features."
   ]
  },
  {
   "cell_type": "code",
   "execution_count": 10,
   "metadata": {
    "collapsed": false
   },
   "outputs": [
    {
     "name": "stdout",
     "output_type": "stream",
     "text": [
      "Total features:  2\n"
     ]
    }
   ],
   "source": [
    "ttl_features = dataset['neg_examples_nobias'].shape[1]\n",
    "print(\"Total features: \", ttl_features)"
   ]
  },
  {
   "cell_type": "markdown",
   "metadata": {},
   "source": [
    "### Negative Examples and Labels"
   ]
  },
  {
   "cell_type": "markdown",
   "metadata": {},
   "source": [
    "Multiple examples of two input variables (without bias) under negative class (target output is 0)."
   ]
  },
  {
   "cell_type": "code",
   "execution_count": 11,
   "metadata": {
    "collapsed": false
   },
   "outputs": [],
   "source": [
    "neg_examples_nobias = dataset['neg_examples_nobias']"
   ]
  },
  {
   "cell_type": "code",
   "execution_count": 12,
   "metadata": {
    "collapsed": false
   },
   "outputs": [
    {
     "data": {
      "text/plain": [
       "array([[-0.80857143,  0.8372093 ],\n",
       "       [ 0.35714286,  0.85049834],\n",
       "       [-0.75142857, -0.73089701],\n",
       "       [-0.3       ,  0.12624585]])"
      ]
     },
     "execution_count": 12,
     "metadata": {},
     "output_type": "execute_result"
    }
   ],
   "source": [
    "neg_examples_nobias"
   ]
  },
  {
   "cell_type": "code",
   "execution_count": 13,
   "metadata": {
    "collapsed": false
   },
   "outputs": [
    {
     "name": "stdout",
     "output_type": "stream",
     "text": [
      "Total negative examples:  4\n"
     ]
    }
   ],
   "source": [
    "ttl_neg_examples = neg_examples_nobias.shape[0]\n",
    "print(\"Total negative examples: \", ttl_neg_examples)"
   ]
  },
  {
   "cell_type": "markdown",
   "metadata": {},
   "source": [
    "Construct negative examples with bias."
   ]
  },
  {
   "cell_type": "code",
   "execution_count": 14,
   "metadata": {
    "collapsed": false
   },
   "outputs": [],
   "source": [
    "neg_examples = np.hstack([neg_examples_nobias, np.ones((ttl_neg_examples, 1))])"
   ]
  },
  {
   "cell_type": "code",
   "execution_count": 15,
   "metadata": {
    "collapsed": false
   },
   "outputs": [
    {
     "data": {
      "text/plain": [
       "array([[-0.80857143,  0.8372093 ,  1.        ],\n",
       "       [ 0.35714286,  0.85049834,  1.        ],\n",
       "       [-0.75142857, -0.73089701,  1.        ],\n",
       "       [-0.3       ,  0.12624585,  1.        ]])"
      ]
     },
     "execution_count": 15,
     "metadata": {},
     "output_type": "execute_result"
    }
   ],
   "source": [
    "neg_examples"
   ]
  },
  {
   "cell_type": "markdown",
   "metadata": {},
   "source": [
    "Construct negative labels."
   ]
  },
  {
   "cell_type": "code",
   "execution_count": 16,
   "metadata": {
    "collapsed": false
   },
   "outputs": [],
   "source": [
    "neg_labels = np.zeros(ttl_neg_examples, dtype=bool)"
   ]
  },
  {
   "cell_type": "code",
   "execution_count": 17,
   "metadata": {
    "collapsed": false
   },
   "outputs": [
    {
     "data": {
      "text/plain": [
       "array([False, False, False, False], dtype=bool)"
      ]
     },
     "execution_count": 17,
     "metadata": {},
     "output_type": "execute_result"
    }
   ],
   "source": [
    "neg_labels"
   ]
  },
  {
   "cell_type": "markdown",
   "metadata": {},
   "source": [
    "### Positive Examples and Labels"
   ]
  },
  {
   "cell_type": "markdown",
   "metadata": {},
   "source": [
    "Multiple examples of two input variables (without bias) under positive class (target output is 1)."
   ]
  },
  {
   "cell_type": "code",
   "execution_count": 18,
   "metadata": {
    "collapsed": false
   },
   "outputs": [],
   "source": [
    "pos_examples_nobias = dataset['pos_examples_nobias']"
   ]
  },
  {
   "cell_type": "code",
   "execution_count": 19,
   "metadata": {
    "collapsed": false
   },
   "outputs": [
    {
     "data": {
      "text/plain": [
       "array([[ 0.87142857,  0.62458472],\n",
       "       [-0.02      , -0.92358804],\n",
       "       [ 0.36285714, -0.31893688],\n",
       "       [ 0.88857143, -0.87043189]])"
      ]
     },
     "execution_count": 19,
     "metadata": {},
     "output_type": "execute_result"
    }
   ],
   "source": [
    "pos_examples_nobias"
   ]
  },
  {
   "cell_type": "code",
   "execution_count": 20,
   "metadata": {
    "collapsed": false
   },
   "outputs": [
    {
     "name": "stdout",
     "output_type": "stream",
     "text": [
      "Total positive examples:  4\n"
     ]
    }
   ],
   "source": [
    "ttl_pos_examples = pos_examples_nobias.shape[0]\n",
    "print(\"Total positive examples: \", ttl_pos_examples)"
   ]
  },
  {
   "cell_type": "markdown",
   "metadata": {},
   "source": [
    "Construct positive examples with bias."
   ]
  },
  {
   "cell_type": "code",
   "execution_count": 21,
   "metadata": {
    "collapsed": true
   },
   "outputs": [],
   "source": [
    "pos_examples = np.hstack([pos_examples_nobias, np.ones((ttl_pos_examples, 1))])"
   ]
  },
  {
   "cell_type": "code",
   "execution_count": 22,
   "metadata": {
    "collapsed": false
   },
   "outputs": [
    {
     "data": {
      "text/plain": [
       "array([[ 0.87142857,  0.62458472,  1.        ],\n",
       "       [-0.02      , -0.92358804,  1.        ],\n",
       "       [ 0.36285714, -0.31893688,  1.        ],\n",
       "       [ 0.88857143, -0.87043189,  1.        ]])"
      ]
     },
     "execution_count": 22,
     "metadata": {},
     "output_type": "execute_result"
    }
   ],
   "source": [
    "pos_examples"
   ]
  },
  {
   "cell_type": "markdown",
   "metadata": {},
   "source": [
    "Construct positive labels."
   ]
  },
  {
   "cell_type": "code",
   "execution_count": 23,
   "metadata": {
    "collapsed": false
   },
   "outputs": [],
   "source": [
    "pos_labels = np.ones(ttl_pos_examples, dtype=bool)"
   ]
  },
  {
   "cell_type": "code",
   "execution_count": 24,
   "metadata": {
    "collapsed": false
   },
   "outputs": [
    {
     "data": {
      "text/plain": [
       "array([ True,  True,  True,  True], dtype=bool)"
      ]
     },
     "execution_count": 24,
     "metadata": {},
     "output_type": "execute_result"
    }
   ],
   "source": [
    "pos_labels"
   ]
  },
  {
   "cell_type": "markdown",
   "metadata": {},
   "source": [
    "### Combined Examples and Labels"
   ]
  },
  {
   "cell_type": "markdown",
   "metadata": {},
   "source": [
    "Combined both negative and positive examples into $x$."
   ]
  },
  {
   "cell_type": "code",
   "execution_count": 25,
   "metadata": {
    "collapsed": true
   },
   "outputs": [],
   "source": [
    "X = np.vstack([neg_examples, pos_examples])"
   ]
  },
  {
   "cell_type": "code",
   "execution_count": 26,
   "metadata": {
    "collapsed": false
   },
   "outputs": [
    {
     "data": {
      "text/plain": [
       "array([[-0.80857143,  0.8372093 ,  1.        ],\n",
       "       [ 0.35714286,  0.85049834,  1.        ],\n",
       "       [-0.75142857, -0.73089701,  1.        ],\n",
       "       [-0.3       ,  0.12624585,  1.        ],\n",
       "       [ 0.87142857,  0.62458472,  1.        ],\n",
       "       [-0.02      , -0.92358804,  1.        ],\n",
       "       [ 0.36285714, -0.31893688,  1.        ],\n",
       "       [ 0.88857143, -0.87043189,  1.        ]])"
      ]
     },
     "execution_count": 26,
     "metadata": {},
     "output_type": "execute_result"
    }
   ],
   "source": [
    "X"
   ]
  },
  {
   "cell_type": "markdown",
   "metadata": {},
   "source": [
    "Combined both negative and positive labels."
   ]
  },
  {
   "cell_type": "code",
   "execution_count": 27,
   "metadata": {
    "collapsed": true
   },
   "outputs": [],
   "source": [
    "labels = np.hstack([neg_labels, pos_labels])"
   ]
  },
  {
   "cell_type": "code",
   "execution_count": 28,
   "metadata": {
    "collapsed": false
   },
   "outputs": [
    {
     "data": {
      "text/plain": [
       "array([False, False, False, False,  True,  True,  True,  True], dtype=bool)"
      ]
     },
     "execution_count": 28,
     "metadata": {},
     "output_type": "execute_result"
    }
   ],
   "source": [
    "labels"
   ]
  },
  {
   "cell_type": "markdown",
   "metadata": {},
   "source": [
    "### Weight"
   ]
  },
  {
   "cell_type": "markdown",
   "metadata": {},
   "source": [
    "Initial weight for two input variables with bias."
   ]
  },
  {
   "cell_type": "code",
   "execution_count": 29,
   "metadata": {
    "collapsed": false
   },
   "outputs": [],
   "source": [
    "w_init = dataset.get('w_init', None)"
   ]
  },
  {
   "cell_type": "code",
   "execution_count": 30,
   "metadata": {
    "collapsed": false
   },
   "outputs": [
    {
     "data": {
      "text/plain": [
       "array([[-0.62170147],\n",
       "       [ 0.76091527],\n",
       "       [ 0.77187205]])"
      ]
     },
     "execution_count": 30,
     "metadata": {},
     "output_type": "execute_result"
    }
   ],
   "source": [
    "w_init"
   ]
  },
  {
   "cell_type": "markdown",
   "metadata": {},
   "source": [
    "Get weight from initial weight or random generator."
   ]
  },
  {
   "cell_type": "code",
   "execution_count": 31,
   "metadata": {
    "collapsed": false
   },
   "outputs": [],
   "source": [
    "if w_init is not None:\n",
    "    w = np.copy(np.transpose(w_init))[0]\n",
    "else:\n",
    "    w = np.random.random_sample(ttl_features + 1)"
   ]
  },
  {
   "cell_type": "code",
   "execution_count": 32,
   "metadata": {
    "collapsed": false
   },
   "outputs": [
    {
     "data": {
      "text/plain": [
       "array([-0.62170147,  0.76091527,  0.77187205])"
      ]
     },
     "execution_count": 32,
     "metadata": {},
     "output_type": "execute_result"
    }
   ],
   "source": [
    "w"
   ]
  },
  {
   "cell_type": "markdown",
   "metadata": {},
   "source": [
    "### Generously Feasible Weight with Bias"
   ]
  },
  {
   "cell_type": "markdown",
   "metadata": {},
   "source": [
    "Provided or expected feasible wight with bias for comparison purposes."
   ]
  },
  {
   "cell_type": "code",
   "execution_count": 33,
   "metadata": {
    "collapsed": false
   },
   "outputs": [],
   "source": [
    "w_gen_feas = dataset.get('w_gen_feas', [])\n",
    "if len(w_gen_feas):\n",
    "    w_gen_feas = np.transpose(w_gen_feas)[0]"
   ]
  },
  {
   "cell_type": "code",
   "execution_count": 34,
   "metadata": {
    "collapsed": false
   },
   "outputs": [
    {
     "data": {
      "text/plain": [
       "array([ 4.3496526 , -2.60997235, -0.69414749])"
      ]
     },
     "execution_count": 34,
     "metadata": {},
     "output_type": "execute_result"
    }
   ],
   "source": [
    "w_gen_feas"
   ]
  },
  {
   "cell_type": "markdown",
   "metadata": {},
   "source": [
    "### Read Dataset"
   ]
  },
  {
   "cell_type": "code",
   "execution_count": 35,
   "metadata": {
    "collapsed": false
   },
   "outputs": [],
   "source": [
    "def read_dataset(filename):\n",
    "    \n",
    "    dataset = sio.loadmat(filename)\n",
    "    \n",
    "    ttl_features = dataset['neg_examples_nobias'].shape[1]\n",
    "    \n",
    "    neg_examples_nobias = dataset['neg_examples_nobias']\n",
    "    ttl_neg_examples = neg_examples_nobias.shape[0]\n",
    "    neg_examples = np.hstack([neg_examples_nobias, np.ones((ttl_neg_examples, 1))])\n",
    "    neg_labels = np.zeros(ttl_neg_examples, dtype=bool)\n",
    "    \n",
    "    pos_examples_nobias = dataset['pos_examples_nobias']\n",
    "    ttl_pos_examples = pos_examples_nobias.shape[0]\n",
    "    pos_examples = np.hstack([pos_examples_nobias, np.ones((ttl_pos_examples, 1))])\n",
    "    pos_labels = np.ones(ttl_pos_examples, dtype=bool)\n",
    "    \n",
    "    X = np.vstack([neg_examples, pos_examples])\n",
    "    labels = np.hstack([neg_labels, pos_labels])\n",
    "    \n",
    "    w_init = dataset.get('w_init', None)\n",
    "    if w_init is not None:\n",
    "        w = np.copy(np.transpose(w_init))[0]\n",
    "    else:\n",
    "        w = np.random.random_sample(ttl_features + 1)\n",
    "        \n",
    "    w_gen_feas = dataset.get('w_gen_feas', [])\n",
    "    if len(w_gen_feas):\n",
    "        w_gen_feas = np.transpose(w_gen_feas)[0]\n",
    "    \n",
    "    return ttl_features, X, labels, w, w_gen_feas"
   ]
  },
  {
   "cell_type": "markdown",
   "metadata": {},
   "source": [
    "---"
   ]
  },
  {
   "cell_type": "markdown",
   "metadata": {},
   "source": [
    "# Model"
   ]
  },
  {
   "cell_type": "markdown",
   "metadata": {},
   "source": [
    "### Weighted Sum Formula"
   ]
  },
  {
   "cell_type": "markdown",
   "metadata": {},
   "source": [
    "Weighted sum $z$ of input neurons is calculated as follow.$^{[2,3]}$"
   ]
  },
  {
   "cell_type": "markdown",
   "metadata": {},
   "source": [
    "$$z = b+\\sum_{i}w_ix_i$$"
   ]
  },
  {
   "cell_type": "markdown",
   "metadata": {},
   "source": [
    "Calculate weighted sum $z$."
   ]
  },
  {
   "cell_type": "code",
   "execution_count": 36,
   "metadata": {
    "collapsed": false
   },
   "outputs": [
    {
     "data": {
      "text/plain": [
       "array([ 1.91160744,  1.19699298,  0.6828856 ,  1.05444488,  0.70535967,\n",
       "        0.08153383,  0.30359929, -0.44287904])"
      ]
     },
     "execution_count": 36,
     "metadata": {},
     "output_type": "execute_result"
    }
   ],
   "source": [
    "Z = np.dot(X, w)\n",
    "Z"
   ]
  },
  {
   "cell_type": "markdown",
   "metadata": {},
   "source": [
    "### Binary Threshold Neuron Model"
   ]
  },
  {
   "cell_type": "markdown",
   "metadata": {},
   "source": [
    "Decision unit of output $y$ from weighted sum $z$.$^{[2,3]}$"
   ]
  },
  {
   "cell_type": "markdown",
   "metadata": {},
   "source": [
    "$$\n",
    "y = \\left\\{\n",
    "\\begin{array}{ll}\n",
    "1 & \\mbox{if $z \\geq 0$}\\\\\n",
    "0 & \\mbox{otherwise}\n",
    "\\end{array}\n",
    "\\right.\n",
    "$$"
   ]
  },
  {
   "cell_type": "markdown",
   "metadata": {},
   "source": [
    "Output clustering $y$ using binary threshold neuron model."
   ]
  },
  {
   "cell_type": "code",
   "execution_count": 37,
   "metadata": {
    "collapsed": false
   },
   "outputs": [
    {
     "data": {
      "text/plain": [
       "array([ True,  True,  True,  True,  True,  True,  True, False], dtype=bool)"
      ]
     },
     "execution_count": 37,
     "metadata": {},
     "output_type": "execute_result"
    }
   ],
   "source": [
    "Y = Z >= 0\n",
    "Y"
   ]
  },
  {
   "cell_type": "code",
   "execution_count": 38,
   "metadata": {
    "collapsed": false
   },
   "outputs": [
    {
     "data": {
      "text/plain": [
       "array([False, False, False, False,  True,  True,  True,  True], dtype=bool)"
      ]
     },
     "execution_count": 38,
     "metadata": {},
     "output_type": "execute_result"
    }
   ],
   "source": [
    "labels"
   ]
  },
  {
   "cell_type": "markdown",
   "metadata": {},
   "source": [
    "Evaluate cost/error/mistake $J$. True means the clustering result agrees with given label. Whereas, False means the opposite."
   ]
  },
  {
   "cell_type": "code",
   "execution_count": 39,
   "metadata": {
    "collapsed": false
   },
   "outputs": [
    {
     "data": {
      "text/plain": [
       "array([False, False, False, False,  True,  True,  True, False], dtype=bool)"
      ]
     },
     "execution_count": 39,
     "metadata": {},
     "output_type": "execute_result"
    }
   ],
   "source": [
    "J = Y == labels\n",
    "J"
   ]
  },
  {
   "cell_type": "markdown",
   "metadata": {},
   "source": [
    "Overall perceptron evaluation function."
   ]
  },
  {
   "cell_type": "code",
   "execution_count": 40,
   "metadata": {
    "collapsed": true
   },
   "outputs": [],
   "source": [
    "def evaluate_perceptron(X, w, labels):\n",
    "    Z = np.dot(X, w)  # weighted sum\n",
    "    Y = Z >= 0        # binary threshold clustering\n",
    "    J = Y == labels   # cost function\n",
    "    \n",
    "    return J"
   ]
  },
  {
   "cell_type": "markdown",
   "metadata": {},
   "source": [
    "Evaluate perceptron using initial weight."
   ]
  },
  {
   "cell_type": "code",
   "execution_count": 41,
   "metadata": {
    "collapsed": false
   },
   "outputs": [
    {
     "data": {
      "image/png": "[encoded data removed]",
      "text/plain": [
       "<matplotlib.figure.Figure at 0x1047e8a90>"
      ]
     },
     "metadata": {
      "image/png": {
       "height": 255,
       "width": 385
      }
     },
     "output_type": "display_data"
    }
   ],
   "source": [
    "J = evaluate_perceptron(X, w, labels)\n",
    "plot_classification_boundary(X, w, J, labels)"
   ]
  },
  {
   "cell_type": "markdown",
   "metadata": {},
   "source": [
    "Evaluate perceptron using feasible weight."
   ]
  },
  {
   "cell_type": "code",
   "execution_count": 42,
   "metadata": {
    "collapsed": false
   },
   "outputs": [
    {
     "data": {
      "image/png": "[encoded data removed]",
      "text/plain": [
       "<matplotlib.figure.Figure at 0x1047d48d0>"
      ]
     },
     "metadata": {
      "image/png": {
       "height": 255,
       "width": 385
      }
     },
     "output_type": "display_data"
    }
   ],
   "source": [
    "J = evaluate_perceptron(X, w_gen_feas, labels)\n",
    "plot_classification_boundary(X, w_gen_feas, J, labels)"
   ]
  },
  {
   "cell_type": "markdown",
   "metadata": {},
   "source": [
    "---"
   ]
  },
  {
   "cell_type": "markdown",
   "metadata": {},
   "source": [
    "# Learning Algorithm"
   ]
  },
  {
   "cell_type": "markdown",
   "metadata": {},
   "source": [
    "Perceptron learning algorithm$^{[2,3]}$:\n",
    "- If output $y$ agrees with given label, keep current weight vector\n",
    "- If output $y$ is 1 for label 0, substract weight vector by input vector\n",
    "- If output $y$ is 0 for label 1, add input vector to weight vector"
   ]
  },
  {
   "cell_type": "code",
   "execution_count": 43,
   "metadata": {
    "collapsed": false
   },
   "outputs": [],
   "source": [
    "def update_weights(X, w, labels):\n",
    "    for i, x in enumerate(X):\n",
    "        z = np.dot(x,w)\n",
    "        if labels[i] == False:\n",
    "            if z >= 0.0:\n",
    "                w = w - X[i]\n",
    "        else:\n",
    "            if z < 0.0:\n",
    "                w = w + X[i]\n",
    "            \n",
    "    return w"
   ]
  },
  {
   "cell_type": "markdown",
   "metadata": {},
   "source": [
    "Initial weight."
   ]
  },
  {
   "cell_type": "code",
   "execution_count": 44,
   "metadata": {
    "collapsed": false
   },
   "outputs": [
    {
     "data": {
      "image/png": "[encoded data removed]",
      "text/plain": [
       "<matplotlib.figure.Figure at 0x104cdb240>"
      ]
     },
     "metadata": {
      "image/png": {
       "height": 255,
       "width": 385
      }
     },
     "output_type": "display_data"
    }
   ],
   "source": [
    "ttl_features, X, labels, w, w_gen_feas = read_dataset('dataset1.mat')\n",
    "J = evaluate_perceptron(X, w, labels)\n",
    "plot_classification_boundary(X, w, J, labels)"
   ]
  },
  {
   "cell_type": "markdown",
   "metadata": {},
   "source": [
    "First iteration."
   ]
  },
  {
   "cell_type": "code",
   "execution_count": 45,
   "metadata": {
    "collapsed": false
   },
   "outputs": [
    {
     "data": {
      "image/png": "[encoded data removed]",
      "text/plain": [
       "<matplotlib.figure.Figure at 0x104eda208>"
      ]
     },
     "metadata": {
      "image/png": {
       "height": 255,
       "width": 385
      }
     },
     "output_type": "display_data"
    }
   ],
   "source": [
    "w = update_weights(X, w, labels)\n",
    "J = evaluate_perceptron(X, w, labels)\n",
    "plot_classification_boundary(X, w, J, labels)"
   ]
  },
  {
   "cell_type": "markdown",
   "metadata": {},
   "source": [
    "Second iteration."
   ]
  },
  {
   "cell_type": "code",
   "execution_count": 46,
   "metadata": {
    "collapsed": false
   },
   "outputs": [
    {
     "data": {
      "image/png": "[encoded data removed]",
      "text/plain": [
       "<matplotlib.figure.Figure at 0x104f45358>"
      ]
     },
     "metadata": {
      "image/png": {
       "height": 255,
       "width": 385
      }
     },
     "output_type": "display_data"
    }
   ],
   "source": [
    "w = update_weights(X, w, labels)\n",
    "J = evaluate_perceptron(X, w, labels)\n",
    "plot_classification_boundary(X, w, J, labels)"
   ]
  },
  {
   "cell_type": "markdown",
   "metadata": {},
   "source": [
    "---"
   ]
  },
  {
   "cell_type": "markdown",
   "metadata": {},
   "source": [
    "# Training"
   ]
  },
  {
   "cell_type": "code",
   "execution_count": 47,
   "metadata": {
    "collapsed": false,
    "scrolled": false
   },
   "outputs": [],
   "source": [
    "def perform_perceptron_training(dataset_filename, max_iteration):\n",
    "    ttl_features, X, labels, w, w_gen_feas = read_dataset(dataset_filename)\n",
    "    ttl_labels = len(labels)\n",
    "\n",
    "    J = evaluate_perceptron(X, w, labels)\n",
    "    ttl_errors = ttl_labels - np.count_nonzero(J)\n",
    "    print(\"Number of errors in iteration %d: %2d\" % (0, ttl_errors))\n",
    "    plot_classification_boundary(X, w, J, labels)\n",
    "\n",
    "    ttl_errors_history = []\n",
    "    w_dist_history = []\n",
    "    for i in range(1, max_iteration):\n",
    "        w = update_weights(X, w, labels)\n",
    "        J = evaluate_perceptron(X, w, labels)\n",
    "        ttl_errors = ttl_labels - np.count_nonzero(J)\n",
    "        print(\"Number of errors in iteration %d: %2d\" % (i, ttl_errors))\n",
    "        ttl_errors_history.append(ttl_errors)\n",
    "        if len(w_gen_feas):\n",
    "            w_dist_history.append(np.linalg.norm(w - w_gen_feas))\n",
    "        plot_classification_boundary(X, w, J, labels)\n",
    "        if ttl_errors <= 0:\n",
    "            break\n",
    "    \n",
    "    return ttl_errors_history, w_dist_history"
   ]
  },
  {
   "cell_type": "code",
   "execution_count": 48,
   "metadata": {
    "collapsed": false,
    "scrolled": false
   },
   "outputs": [
    {
     "name": "stdout",
     "output_type": "stream",
     "text": [
      "Number of errors in iteration 0:  5\n"
     ]
    },
    {
     "data": {
      "image/png": "[encoded data removed]",
      "text/plain": [
       "<matplotlib.figure.Figure at 0x1052e1ba8>"
      ]
     },
     "metadata": {
      "image/png": {
       "height": 255,
       "width": 385
      }
     },
     "output_type": "display_data"
    },
    {
     "name": "stdout",
     "output_type": "stream",
     "text": [
      "Number of errors in iteration 1:  3\n"
     ]
    },
    {
     "data": {
      "image/png": "[encoded data removed]",
      "text/plain": [
       "<matplotlib.figure.Figure at 0x1052e1240>"
      ]
     },
     "metadata": {
      "image/png": {
       "height": 255,
       "width": 385
      }
     },
     "output_type": "display_data"
    },
    {
     "name": "stdout",
     "output_type": "stream",
     "text": [
      "Number of errors in iteration 2:  1\n"
     ]
    },
    {
     "data": {
      "image/png": "[encoded data removed]",
      "text/plain": [
       "<matplotlib.figure.Figure at 0x104cd5710>"
      ]
     },
     "metadata": {
      "image/png": {
       "height": 255,
       "width": 385
      }
     },
     "output_type": "display_data"
    },
    {
     "name": "stdout",
     "output_type": "stream",
     "text": [
      "Number of errors in iteration 3:  1\n"
     ]
    },
    {
     "data": {
      "image/png": "[encoded data removed]",
      "text/plain": [
       "<matplotlib.figure.Figure at 0x10511aa58>"
      ]
     },
     "metadata": {
      "image/png": {
       "height": 255,
       "width": 385
      }
     },
     "output_type": "display_data"
    },
    {
     "name": "stdout",
     "output_type": "stream",
     "text": [
      "Number of errors in iteration 4:  1\n"
     ]
    },
    {
     "data": {
      "image/png": "[encoded data removed]",
      "text/plain": [
       "<matplotlib.figure.Figure at 0x10481e7b8>"
      ]
     },
     "metadata": {
      "image/png": {
       "height": 255,
       "width": 385
      }
     },
     "output_type": "display_data"
    },
    {
     "name": "stdout",
     "output_type": "stream",
     "text": [
      "Number of errors in iteration 5:  0\n"
     ]
    },
    {
     "data": {
      "image/png": "[encoded data removed]",
      "text/plain": [
       "<matplotlib.figure.Figure at 0x104f03b70>"
      ]
     },
     "metadata": {
      "image/png": {
       "height": 255,
       "width": 385
      }
     },
     "output_type": "display_data"
    }
   ],
   "source": [
    "ttl_errors_history, w_dist_history = perform_perceptron_training('dataset1.mat', 21)"
   ]
  },
  {
   "cell_type": "code",
   "execution_count": 49,
   "metadata": {
    "collapsed": false
   },
   "outputs": [
    {
     "data": {
      "image/png": "[encoded data removed]",
      "text/plain": [
       "<matplotlib.figure.Figure at 0x104f397b8>"
      ]
     },
     "metadata": {
      "image/png": {
       "height": 270,
       "width": 417
      }
     },
     "output_type": "display_data"
    }
   ],
   "source": [
    "plot_training_history(ttl_errors_history, w_dist_history)"
   ]
  },
  {
   "cell_type": "markdown",
   "metadata": {},
   "source": [
    "---"
   ]
  },
  {
   "cell_type": "markdown",
   "metadata": {},
   "source": [
    "# References"
   ]
  },
  {
   "cell_type": "markdown",
   "metadata": {},
   "source": [
    "1. G. Hinton, 2016. _Neural Networks for Machine Learning_. Week 3 Programming Assignment 1: The perceptron learning algorithm. University of Toronto. Coursera. https://www.coursera.org/learn/neural-networks\n",
    "2. G. Hinton, 2016. _Neural Networks for Machine Learning_. Week 2: The Perceptron learning procedure. University of Toronto. Coursera. https://www.coursera.org/learn/neural-networks\n",
    "3. McCulloch, W.S. & Pitts, W. _A logical calculus of the ideas immanent in nervous activity_. Bulletin of Mathematical Biophysics (1943) 5: 115. doi:10.1007/BF02478259"
   ]
  }
 ],
 "metadata": {
  "kernelspec": {
   "display_name": "Python 3",
   "language": "python",
   "name": "python3"
  },
  "language_info": {
   "codemirror_mode": {
    "name": "ipython",
    "version": 3
   },
   "file_extension": ".py",
   "mimetype": "text/x-python",
   "name": "python",
   "nbconvert_exporter": "python",
   "pygments_lexer": "ipython3",
   "version": "3.5.2"
  }
 },
 "nbformat": 4,
 "nbformat_minor": 0
}
