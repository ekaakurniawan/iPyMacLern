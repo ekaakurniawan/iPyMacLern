{
 "cells": [
  {
   "cell_type": "markdown",
   "metadata": {},
   "source": [
    "Part of [iPyMacLern](http://ekaakurniawan.github.io/iPyMacLern/) project."
   ]
  },
  {
   "cell_type": "markdown",
   "metadata": {},
   "source": [
    "> Copyright (C) 2016 by Eka A. Kurniawan\n",
    "> \n",
    "> eka.a.kurniawan(ta)gmail(tod)com\n",
    "> \n",
    "> This program is free software: you can redistribute it and/or modify\n",
    "> it under the terms of the GNU General Public License as published by\n",
    "> the Free Software Foundation, either version 3 of the License, or\n",
    "> (at your option) any later version.\n",
    "> \n",
    "> This program is distributed in the hope that it will be useful,\n",
    "> but WITHOUT ANY WARRANTY; without even the implied warranty of\n",
    "> MERCHANTABILITY or FITNESS FOR A PARTICULAR PURPOSE.  See the\n",
    "> GNU General Public License for more details.\n",
    "> \n",
    "> You should have received a copy of the GNU General Public License\n",
    "> along with this program.  If not, see <http://www.gnu.org/licenses/>."
   ]
  },
  {
   "cell_type": "markdown",
   "metadata": {},
   "source": [
    "### Display Settings"
   ]
  },
  {
   "cell_type": "code",
   "execution_count": 1,
   "metadata": {
    "collapsed": false
   },
   "outputs": [],
   "source": [
    "# Display graph inline\n",
    "%matplotlib inline\n",
    "\n",
    "# Display graph in 'retina' format for Mac with retina display. Others, use PNG or SVG format.\n",
    "%config InlineBackend.figure_format = 'retina'\n",
    "#%config InlineBackend.figure_format = 'PNG'\n",
    "#%config InlineBackend.figure_format = 'SVG'"
   ]
  },
  {
   "cell_type": "markdown",
   "metadata": {},
   "source": [
    "### Tested On"
   ]
  },
  {
   "cell_type": "code",
   "execution_count": 2,
   "metadata": {
    "collapsed": false
   },
   "outputs": [
    {
     "name": "stdout",
     "output_type": "stream",
     "text": [
      "Python 3.5.2 (default, Jun 27 2016, 03:10:38) \n",
      "[GCC 4.2.1 Compatible Apple LLVM 7.0.2 (clang-700.1.81)]\n"
     ]
    }
   ],
   "source": [
    "import sys\n",
    "print(\"Python %s\" % sys.version)"
   ]
  },
  {
   "cell_type": "code",
   "execution_count": 3,
   "metadata": {
    "collapsed": false
   },
   "outputs": [
    {
     "name": "stdout",
     "output_type": "stream",
     "text": [
      "NumPy 1.11.1\n"
     ]
    }
   ],
   "source": [
    "import numpy as np\n",
    "print(\"NumPy %s\" % np.__version__)"
   ]
  },
  {
   "cell_type": "code",
   "execution_count": 4,
   "metadata": {
    "collapsed": false
   },
   "outputs": [
    {
     "name": "stdout",
     "output_type": "stream",
     "text": [
      "scikit-learn 0.17.1\n"
     ]
    }
   ],
   "source": [
    "import sklearn\n",
    "from sklearn.utils.extmath import cartesian\n",
    "print(\"scikit-learn %s\" % sklearn.__version__)"
   ]
  },
  {
   "cell_type": "code",
   "execution_count": 5,
   "metadata": {
    "collapsed": false
   },
   "outputs": [
    {
     "name": "stdout",
     "output_type": "stream",
     "text": [
      "Pandas 0.18.1\n"
     ]
    }
   ],
   "source": [
    "import pandas as pd\n",
    "print(\"Pandas %s\" % pd.__version__)"
   ]
  },
  {
   "cell_type": "markdown",
   "metadata": {},
   "source": [
    "### Imports"
   ]
  },
  {
   "cell_type": "code",
   "execution_count": 6,
   "metadata": {
    "collapsed": true
   },
   "outputs": [],
   "source": [
    "import math"
   ]
  },
  {
   "cell_type": "markdown",
   "metadata": {},
   "source": [
    "---"
   ]
  },
  {
   "cell_type": "markdown",
   "metadata": {},
   "source": [
    "# Table of Contents"
   ]
  },
  {
   "cell_type": "markdown",
   "metadata": {},
   "source": [
    "- [Definition](#Definition)\n",
    "- [Data Structure](#Data-Structure)\n",
    "- [Class](#Class)\n",
    "- [Basic Math Functions](#Basic-Math-Functions)\n",
    "- [Operations](#Operations)\n",
    "- [Unit Testing](#Unit-Testing)\n",
    "- [References](#References)"
   ]
  },
  {
   "cell_type": "markdown",
   "metadata": {},
   "source": [
    "---"
   ]
  },
  {
   "cell_type": "markdown",
   "metadata": {},
   "source": [
    "# Definition"
   ]
  },
  {
   "cell_type": "markdown",
   "metadata": {},
   "source": [
    "Factor $\\phi$ is a function mapping values from a set of random variables $D$, $Val(D)$ to real number $I\\!R$.$^{[1,2]}$\n",
    "\n",
    "$$\\phi(X_1, \\ldots, X_k):Val(X_1, \\ldots, X_k) \\rightarrow I\\!R$$\n",
    "\n",
    "Where $D$ is also called the scope of the factor.\n",
    "\n",
    "$$D = Scope[\\phi] = \\{X_1, \\ldots, X_k\\}$$"
   ]
  },
  {
   "cell_type": "markdown",
   "metadata": {},
   "source": [
    "---"
   ]
  },
  {
   "cell_type": "markdown",
   "metadata": {},
   "source": [
    "# Data Structure"
   ]
  },
  {
   "cell_type": "markdown",
   "metadata": {},
   "source": [
    "Data structure for factor $\\phi$ with three binary variables $X_2$, $X_1$, and $X_3$ that are all assigned to 1, are written as follow.$^{[3]}$"
   ]
  },
  {
   "cell_type": "code",
   "execution_count": 7,
   "metadata": {
    "collapsed": true
   },
   "outputs": [],
   "source": [
    "phi = {'variables': np.array(['X_2', 'X_1', 'X_3']),\n",
    "       'cardinalities': np.array([2, 2, 2]),\n",
    "       'values': np.ones(8)}"
   ]
  },
  {
   "cell_type": "markdown",
   "metadata": {},
   "source": [
    "The ```card``` key stores cardinality of all variables. In the example, the cardinality of variable $X_3$, $|Val(X_3)|$ is 2."
   ]
  },
  {
   "cell_type": "markdown",
   "metadata": {},
   "source": [
    "Following function converts factor data structure into the table form for displaying purpose."
   ]
  },
  {
   "cell_type": "code",
   "execution_count": 8,
   "metadata": {
    "collapsed": true
   },
   "outputs": [],
   "source": [
    "def convert_factor_ds_to_table(phi):\n",
    "    cart = cartesian([range(d) for d in phi['cardinalities']])\n",
    "    # Construct table\n",
    "    df = pd.DataFrame(cart)\n",
    "    df.columns = ['$%s$' % v for v in phi['variables']]\n",
    "    df['$\\phi(%s)$' % ','.join([v for v in phi['variables']])] = phi['values']\n",
    "    return df"
   ]
  },
  {
   "cell_type": "code",
   "execution_count": 9,
   "metadata": {
    "collapsed": false
   },
   "outputs": [],
   "source": [
    "phi_table = convert_factor_ds_to_table(phi)"
   ]
  },
  {
   "cell_type": "code",
   "execution_count": 10,
   "metadata": {
    "collapsed": false
   },
   "outputs": [
    {
     "data": {
      "text/html": [
       "<div>\n",
       "<table border=\"1\" class=\"dataframe\">\n",
       "  <thead>\n",
       "    <tr style=\"text-align: right;\">\n",
       "      <th></th>\n",
       "      <th>$X_2$</th>\n",
       "      <th>$X_1$</th>\n",
       "      <th>$X_3$</th>\n",
       "      <th>$\\phi(X_2,X_1,X_3)$</th>\n",
       "    </tr>\n",
       "  </thead>\n",
       "  <tbody>\n",
       "    <tr>\n",
       "      <th>0</th>\n",
       "      <td>0</td>\n",
       "      <td>0</td>\n",
       "      <td>0</td>\n",
       "      <td>1.0</td>\n",
       "    </tr>\n",
       "    <tr>\n",
       "      <th>1</th>\n",
       "      <td>0</td>\n",
       "      <td>0</td>\n",
       "      <td>1</td>\n",
       "      <td>1.0</td>\n",
       "    </tr>\n",
       "    <tr>\n",
       "      <th>2</th>\n",
       "      <td>0</td>\n",
       "      <td>1</td>\n",
       "      <td>0</td>\n",
       "      <td>1.0</td>\n",
       "    </tr>\n",
       "    <tr>\n",
       "      <th>3</th>\n",
       "      <td>0</td>\n",
       "      <td>1</td>\n",
       "      <td>1</td>\n",
       "      <td>1.0</td>\n",
       "    </tr>\n",
       "    <tr>\n",
       "      <th>4</th>\n",
       "      <td>1</td>\n",
       "      <td>0</td>\n",
       "      <td>0</td>\n",
       "      <td>1.0</td>\n",
       "    </tr>\n",
       "    <tr>\n",
       "      <th>5</th>\n",
       "      <td>1</td>\n",
       "      <td>0</td>\n",
       "      <td>1</td>\n",
       "      <td>1.0</td>\n",
       "    </tr>\n",
       "    <tr>\n",
       "      <th>6</th>\n",
       "      <td>1</td>\n",
       "      <td>1</td>\n",
       "      <td>0</td>\n",
       "      <td>1.0</td>\n",
       "    </tr>\n",
       "    <tr>\n",
       "      <th>7</th>\n",
       "      <td>1</td>\n",
       "      <td>1</td>\n",
       "      <td>1</td>\n",
       "      <td>1.0</td>\n",
       "    </tr>\n",
       "  </tbody>\n",
       "</table>\n",
       "</div>"
      ],
      "text/plain": [
       "   $X_2$  $X_1$  $X_3$  $\\phi(X_2,X_1,X_3)$\n",
       "0      0      0      0                  1.0\n",
       "1      0      0      1                  1.0\n",
       "2      0      1      0                  1.0\n",
       "3      0      1      1                  1.0\n",
       "4      1      0      0                  1.0\n",
       "5      1      0      1                  1.0\n",
       "6      1      1      0                  1.0\n",
       "7      1      1      1                  1.0"
      ]
     },
     "execution_count": 10,
     "metadata": {},
     "output_type": "execute_result"
    }
   ],
   "source": [
    "phi_table"
   ]
  },
  {
   "cell_type": "markdown",
   "metadata": {},
   "source": [
    "### Assignment and Index"
   ]
  },
  {
   "cell_type": "markdown",
   "metadata": {},
   "source": [
    "Convert from factor assignment $A$ to the value index $I$ based on the cardinalities $D$."
   ]
  },
  {
   "cell_type": "code",
   "execution_count": 11,
   "metadata": {
    "collapsed": true
   },
   "outputs": [],
   "source": [
    "def convert_assignment_to_index(A, D):\n",
    "    step = [np.prod(D[i+1:]) for i in range(len(D)-1)] + [0]\n",
    "    return np.sum(np.multiply(A, step)) + A[-1]"
   ]
  },
  {
   "cell_type": "code",
   "execution_count": 12,
   "metadata": {
    "collapsed": false
   },
   "outputs": [
    {
     "data": {
      "text/plain": [
       "5"
      ]
     },
     "execution_count": 12,
     "metadata": {},
     "output_type": "execute_result"
    }
   ],
   "source": [
    "A = [1, 0, 1]\n",
    "I = convert_assignment_to_index(A, D = phi['cardinalities'])\n",
    "I"
   ]
  },
  {
   "cell_type": "markdown",
   "metadata": {},
   "source": [
    "Convert from factor value index $I$ to the assignment $A$ based on the cardinalities $D$."
   ]
  },
  {
   "cell_type": "code",
   "execution_count": 13,
   "metadata": {
    "collapsed": false
   },
   "outputs": [],
   "source": [
    "def convert_index_to_assignment(I, D):\n",
    "    step = [np.prod(D[i+1:]) for i in range(len(D)-1)] + [0]\n",
    "    \n",
    "    I_tmp = I\n",
    "    A = []\n",
    "    for i in range(len(D)-1):\n",
    "        a = int(I_tmp / step[i])\n",
    "        A.append(a)\n",
    "        I_tmp = I_tmp - (step[i] * a)\n",
    "    A.append(I_tmp)\n",
    "    return A"
   ]
  },
  {
   "cell_type": "code",
   "execution_count": 14,
   "metadata": {
    "collapsed": false
   },
   "outputs": [
    {
     "data": {
      "text/plain": [
       "[1, 0, 1]"
      ]
     },
     "execution_count": 14,
     "metadata": {},
     "output_type": "execute_result"
    }
   ],
   "source": [
    "I = 5\n",
    "A = convert_index_to_assignment(I, D = phi['cardinalities'])\n",
    "A"
   ]
  },
  {
   "cell_type": "markdown",
   "metadata": {},
   "source": [
    "---"
   ]
  },
  {
   "cell_type": "markdown",
   "metadata": {},
   "source": [
    "# Class"
   ]
  },
  {
   "cell_type": "code",
   "execution_count": 15,
   "metadata": {
    "collapsed": false
   },
   "outputs": [],
   "source": [
    "class factor:\n",
    "    def __init__(self, variables, cardinalities, values):\n",
    "        self.variables = np.array(variables, '<U255')\n",
    "        self.cardinalities = np.array(cardinalities)\n",
    "        self.values = np.array(values)\n",
    "        \n",
    "    def get_table(self):\n",
    "        cart = cartesian([range(cardinality) for cardinality in self.cardinalities])\n",
    "        # Construct table\n",
    "        df = pd.DataFrame(cart)\n",
    "        df.columns = ['$%s$' % l for l in self.variables]\n",
    "        df['$\\phi(%s)$' % ','.join([l for l in self.variables])] = self.values\n",
    "        return df\n",
    "        \n",
    "    def get_index_from_assignment(self, A):\n",
    "        step = [np.prod(self.cardinalities[i+1:]) for i in range(len(self.cardinalities)-1)] + [0]\n",
    "        return np.sum(np.multiply(A, step)) + A[-1]\n",
    "\n",
    "    def get_assignment_from_index(self, I):\n",
    "        step = [np.prod(self.cardinalities[i+1:]) for i in range(len(self.cardinalities)-1)] + [0]\n",
    "    \n",
    "        I_tmp = I\n",
    "        A = []\n",
    "        for i in range(len(self.cardinalities)-1):\n",
    "            a = int(I_tmp / step[i])\n",
    "            A.append(a)\n",
    "            I_tmp = I_tmp - (step[i] * a)\n",
    "        A.append(I_tmp)\n",
    "        return A\n",
    "    \n",
    "    def get_value_of_assignment(self, A):\n",
    "        I = self.get_index_from_assignment(A)\n",
    "        return self.values[I]\n",
    "        \n",
    "    def set_value_of_assignment(self, A, v):\n",
    "        I = self.get_index_from_assignment(A)\n",
    "        self.values[I] = v"
   ]
  },
  {
   "cell_type": "code",
   "execution_count": 16,
   "metadata": {
    "collapsed": false
   },
   "outputs": [],
   "source": [
    "phi = factor(variables = ['X_2', 'X_1', 'X_3'],\n",
    "             cardinalities = [2, 2, 2],\n",
    "             values = np.ones(8))"
   ]
  },
  {
   "cell_type": "code",
   "execution_count": 17,
   "metadata": {
    "collapsed": false
   },
   "outputs": [
    {
     "data": {
      "text/plain": [
       "array(['X_2', 'X_1', 'X_3'], \n",
       "      dtype='<U255')"
      ]
     },
     "execution_count": 17,
     "metadata": {},
     "output_type": "execute_result"
    }
   ],
   "source": [
    "phi.variables"
   ]
  },
  {
   "cell_type": "code",
   "execution_count": 18,
   "metadata": {
    "collapsed": false
   },
   "outputs": [
    {
     "data": {
      "text/plain": [
       "array([2, 2, 2])"
      ]
     },
     "execution_count": 18,
     "metadata": {},
     "output_type": "execute_result"
    }
   ],
   "source": [
    "phi.cardinalities"
   ]
  },
  {
   "cell_type": "code",
   "execution_count": 19,
   "metadata": {
    "collapsed": false
   },
   "outputs": [
    {
     "data": {
      "text/plain": [
       "array([ 1.,  1.,  1.,  1.,  1.,  1.,  1.,  1.])"
      ]
     },
     "execution_count": 19,
     "metadata": {},
     "output_type": "execute_result"
    }
   ],
   "source": [
    "phi.values"
   ]
  },
  {
   "cell_type": "code",
   "execution_count": 20,
   "metadata": {
    "collapsed": false
   },
   "outputs": [
    {
     "data": {
      "text/plain": [
       "5"
      ]
     },
     "execution_count": 20,
     "metadata": {},
     "output_type": "execute_result"
    }
   ],
   "source": [
    "phi.get_index_from_assignment([1, 0, 1])"
   ]
  },
  {
   "cell_type": "code",
   "execution_count": 21,
   "metadata": {
    "collapsed": false
   },
   "outputs": [
    {
     "data": {
      "text/plain": [
       "[1, 0, 1]"
      ]
     },
     "execution_count": 21,
     "metadata": {},
     "output_type": "execute_result"
    }
   ],
   "source": [
    "phi.get_assignment_from_index(5)"
   ]
  },
  {
   "cell_type": "code",
   "execution_count": 22,
   "metadata": {
    "collapsed": false
   },
   "outputs": [
    {
     "data": {
      "text/plain": [
       "1.0"
      ]
     },
     "execution_count": 22,
     "metadata": {},
     "output_type": "execute_result"
    }
   ],
   "source": [
    "phi.get_value_of_assignment([1, 0, 1])"
   ]
  },
  {
   "cell_type": "code",
   "execution_count": 23,
   "metadata": {
    "collapsed": false
   },
   "outputs": [
    {
     "data": {
      "text/plain": [
       "6.0"
      ]
     },
     "execution_count": 23,
     "metadata": {},
     "output_type": "execute_result"
    }
   ],
   "source": [
    "phi.set_value_of_assignment([1, 0, 1], 6)\n",
    "phi.get_value_of_assignment([1, 0, 1])"
   ]
  },
  {
   "cell_type": "markdown",
   "metadata": {},
   "source": [
    "---"
   ]
  },
  {
   "cell_type": "markdown",
   "metadata": {},
   "source": [
    "# Basic Math Functions"
   ]
  },
  {
   "cell_type": "markdown",
   "metadata": {},
   "source": [
    "### ```get_member_index```"
   ]
  },
  {
   "cell_type": "markdown",
   "metadata": {},
   "source": [
    "```get_member_index``` function returns the lowest indices of values in array $A$ found in array $B$."
   ]
  },
  {
   "cell_type": "code",
   "execution_count": 24,
   "metadata": {
    "collapsed": false
   },
   "outputs": [],
   "source": [
    "def get_member_index(A, B):\n",
    "    C = []\n",
    "    for v in A:\n",
    "        idx = np.where(B == v)[0]\n",
    "        if len(idx):\n",
    "            C.append(idx[0])\n",
    "    return np.array(C)"
   ]
  },
  {
   "cell_type": "code",
   "execution_count": 25,
   "metadata": {
    "collapsed": false
   },
   "outputs": [
    {
     "data": {
      "text/plain": [
       "array([1, 0, 2])"
      ]
     },
     "execution_count": 25,
     "metadata": {},
     "output_type": "execute_result"
    }
   ],
   "source": [
    "A = np.array([1,2,3])\n",
    "B = np.array([2,1,3])\n",
    "get_member_index(A, B)"
   ]
  },
  {
   "cell_type": "code",
   "execution_count": 26,
   "metadata": {
    "collapsed": false
   },
   "outputs": [
    {
     "data": {
      "text/plain": [
       "array([0, 4, 2])"
      ]
     },
     "execution_count": 26,
     "metadata": {},
     "output_type": "execute_result"
    }
   ],
   "source": [
    "A = np.array([1,2,3])\n",
    "B = np.array([1,4,3,5,2])\n",
    "get_member_index(A, B)"
   ]
  },
  {
   "cell_type": "markdown",
   "metadata": {},
   "source": [
    "---"
   ]
  },
  {
   "cell_type": "markdown",
   "metadata": {},
   "source": [
    "# Operations"
   ]
  },
  {
   "cell_type": "markdown",
   "metadata": {},
   "source": [
    "Sample factors ($\\phi(X_1)$, $\\phi(X_2)$, and $\\phi(X_3)$).$^{[3]}$"
   ]
  },
  {
   "cell_type": "code",
   "execution_count": 27,
   "metadata": {
    "collapsed": false
   },
   "outputs": [],
   "source": [
    "phi_X1 = factor(variables = ['X_1'],\n",
    "                cardinalities = [2],\n",
    "                values = [0.11, 0.89])\n",
    "\n",
    "phi_X2 = factor(variables = ['X_1', 'X_2'],\n",
    "                cardinalities = [2, 2],\n",
    "                values = [0.59, 0.41, 0.22, 0.78])\n",
    "\n",
    "phi_X3 = factor(variables = ['X_2', 'X_3'],\n",
    "                cardinalities = [2, 2],\n",
    "                values = [0.39, 0.61, 0.06, 0.94])"
   ]
  },
  {
   "cell_type": "code",
   "execution_count": 28,
   "metadata": {
    "collapsed": false
   },
   "outputs": [
    {
     "data": {
      "text/html": [
       "<div>\n",
       "<table border=\"1\" class=\"dataframe\">\n",
       "  <thead>\n",
       "    <tr style=\"text-align: right;\">\n",
       "      <th></th>\n",
       "      <th>$X_1$</th>\n",
       "      <th>$\\phi(X_1)$</th>\n",
       "    </tr>\n",
       "  </thead>\n",
       "  <tbody>\n",
       "    <tr>\n",
       "      <th>0</th>\n",
       "      <td>0</td>\n",
       "      <td>0.11</td>\n",
       "    </tr>\n",
       "    <tr>\n",
       "      <th>1</th>\n",
       "      <td>1</td>\n",
       "      <td>0.89</td>\n",
       "    </tr>\n",
       "  </tbody>\n",
       "</table>\n",
       "</div>"
      ],
      "text/plain": [
       "   $X_1$  $\\phi(X_1)$\n",
       "0      0         0.11\n",
       "1      1         0.89"
      ]
     },
     "execution_count": 28,
     "metadata": {},
     "output_type": "execute_result"
    }
   ],
   "source": [
    "phi_X1.get_table()"
   ]
  },
  {
   "cell_type": "code",
   "execution_count": 29,
   "metadata": {
    "collapsed": false
   },
   "outputs": [
    {
     "data": {
      "text/html": [
       "<div>\n",
       "<table border=\"1\" class=\"dataframe\">\n",
       "  <thead>\n",
       "    <tr style=\"text-align: right;\">\n",
       "      <th></th>\n",
       "      <th>$X_1$</th>\n",
       "      <th>$X_2$</th>\n",
       "      <th>$\\phi(X_1,X_2)$</th>\n",
       "    </tr>\n",
       "  </thead>\n",
       "  <tbody>\n",
       "    <tr>\n",
       "      <th>0</th>\n",
       "      <td>0</td>\n",
       "      <td>0</td>\n",
       "      <td>0.59</td>\n",
       "    </tr>\n",
       "    <tr>\n",
       "      <th>1</th>\n",
       "      <td>0</td>\n",
       "      <td>1</td>\n",
       "      <td>0.41</td>\n",
       "    </tr>\n",
       "    <tr>\n",
       "      <th>2</th>\n",
       "      <td>1</td>\n",
       "      <td>0</td>\n",
       "      <td>0.22</td>\n",
       "    </tr>\n",
       "    <tr>\n",
       "      <th>3</th>\n",
       "      <td>1</td>\n",
       "      <td>1</td>\n",
       "      <td>0.78</td>\n",
       "    </tr>\n",
       "  </tbody>\n",
       "</table>\n",
       "</div>"
      ],
      "text/plain": [
       "   $X_1$  $X_2$  $\\phi(X_1,X_2)$\n",
       "0      0      0             0.59\n",
       "1      0      1             0.41\n",
       "2      1      0             0.22\n",
       "3      1      1             0.78"
      ]
     },
     "execution_count": 29,
     "metadata": {},
     "output_type": "execute_result"
    }
   ],
   "source": [
    "phi_X2.get_table()"
   ]
  },
  {
   "cell_type": "code",
   "execution_count": 30,
   "metadata": {
    "collapsed": false
   },
   "outputs": [
    {
     "data": {
      "text/html": [
       "<div>\n",
       "<table border=\"1\" class=\"dataframe\">\n",
       "  <thead>\n",
       "    <tr style=\"text-align: right;\">\n",
       "      <th></th>\n",
       "      <th>$X_2$</th>\n",
       "      <th>$X_3$</th>\n",
       "      <th>$\\phi(X_2,X_3)$</th>\n",
       "    </tr>\n",
       "  </thead>\n",
       "  <tbody>\n",
       "    <tr>\n",
       "      <th>0</th>\n",
       "      <td>0</td>\n",
       "      <td>0</td>\n",
       "      <td>0.39</td>\n",
       "    </tr>\n",
       "    <tr>\n",
       "      <th>1</th>\n",
       "      <td>0</td>\n",
       "      <td>1</td>\n",
       "      <td>0.61</td>\n",
       "    </tr>\n",
       "    <tr>\n",
       "      <th>2</th>\n",
       "      <td>1</td>\n",
       "      <td>0</td>\n",
       "      <td>0.06</td>\n",
       "    </tr>\n",
       "    <tr>\n",
       "      <th>3</th>\n",
       "      <td>1</td>\n",
       "      <td>1</td>\n",
       "      <td>0.94</td>\n",
       "    </tr>\n",
       "  </tbody>\n",
       "</table>\n",
       "</div>"
      ],
      "text/plain": [
       "   $X_2$  $X_3$  $\\phi(X_2,X_3)$\n",
       "0      0      0             0.39\n",
       "1      0      1             0.61\n",
       "2      1      0             0.06\n",
       "3      1      1             0.94"
      ]
     },
     "execution_count": 30,
     "metadata": {},
     "output_type": "execute_result"
    }
   ],
   "source": [
    "phi_X3.get_table()"
   ]
  },
  {
   "cell_type": "markdown",
   "metadata": {},
   "source": [
    "### Factor Product"
   ]
  },
  {
   "cell_type": "markdown",
   "metadata": {},
   "source": [
    "```factor_product``` function returns product of two factors $A$ and $B$ stored in $C$."
   ]
  },
  {
   "cell_type": "code",
   "execution_count": 31,
   "metadata": {
    "collapsed": true
   },
   "outputs": [],
   "source": [
    "def factor_product(A, B):\n",
    "    variables = np.union1d(A.variables, B.variables)\n",
    "    ttl_variables = len(variables)\n",
    "    \n",
    "    mapA = get_member_index(A.variables, variables)\n",
    "    mapB = get_member_index(B.variables, variables)\n",
    "    \n",
    "    cardinalities = np.zeros(ttl_variables, int)\n",
    "    cardinalities[mapA] = A.cardinalities\n",
    "    cardinalities[mapB] = B.cardinalities\n",
    "    \n",
    "    ttl_values = np.prod(cardinalities)\n",
    "    values = np.zeros(ttl_values)\n",
    "    \n",
    "    C = factor(variables = variables,\n",
    "               cardinalities = cardinalities,\n",
    "               values = values)\n",
    "    \n",
    "    assignments = np.array([C.get_assignment_from_index(i) for i in range(np.prod(C.cardinalities))])\n",
    "    indexA = [A.get_index_from_assignment(assignment) for assignment in assignments[:, mapA]];\n",
    "    indexB = [B.get_index_from_assignment(assignment) for assignment in assignments[:, mapB]];\n",
    "    \n",
    "    values = np.multiply(A.values[indexA], B.values[indexB])\n",
    "    for i in range(len(C.values)):\n",
    "        C.set_value_of_assignment(assignments[i], values[i])\n",
    "    \n",
    "    return C"
   ]
  },
  {
   "cell_type": "code",
   "execution_count": 32,
   "metadata": {
    "collapsed": false
   },
   "outputs": [],
   "source": [
    "phi_X1_X2 = factor_product(phi_X1, phi_X2)"
   ]
  },
  {
   "cell_type": "code",
   "execution_count": 33,
   "metadata": {
    "collapsed": false
   },
   "outputs": [
    {
     "data": {
      "text/html": [
       "<div>\n",
       "<table border=\"1\" class=\"dataframe\">\n",
       "  <thead>\n",
       "    <tr style=\"text-align: right;\">\n",
       "      <th></th>\n",
       "      <th>$X_1$</th>\n",
       "      <th>$X_2$</th>\n",
       "      <th>$\\phi(X_1,X_2)$</th>\n",
       "    </tr>\n",
       "  </thead>\n",
       "  <tbody>\n",
       "    <tr>\n",
       "      <th>0</th>\n",
       "      <td>0</td>\n",
       "      <td>0</td>\n",
       "      <td>0.0649</td>\n",
       "    </tr>\n",
       "    <tr>\n",
       "      <th>1</th>\n",
       "      <td>0</td>\n",
       "      <td>1</td>\n",
       "      <td>0.0451</td>\n",
       "    </tr>\n",
       "    <tr>\n",
       "      <th>2</th>\n",
       "      <td>1</td>\n",
       "      <td>0</td>\n",
       "      <td>0.1958</td>\n",
       "    </tr>\n",
       "    <tr>\n",
       "      <th>3</th>\n",
       "      <td>1</td>\n",
       "      <td>1</td>\n",
       "      <td>0.6942</td>\n",
       "    </tr>\n",
       "  </tbody>\n",
       "</table>\n",
       "</div>"
      ],
      "text/plain": [
       "   $X_1$  $X_2$  $\\phi(X_1,X_2)$\n",
       "0      0      0           0.0649\n",
       "1      0      1           0.0451\n",
       "2      1      0           0.1958\n",
       "3      1      1           0.6942"
      ]
     },
     "execution_count": 33,
     "metadata": {},
     "output_type": "execute_result"
    }
   ],
   "source": [
    "phi_X1_X2.get_table()"
   ]
  },
  {
   "cell_type": "markdown",
   "metadata": {},
   "source": [
    "### Factor Marginalization"
   ]
  },
  {
   "cell_type": "markdown",
   "metadata": {},
   "source": [
    "```factor_marginalization``` function returns new factor $B$ in which variables in factor $A$ have been summed up based on variables in $V$."
   ]
  },
  {
   "cell_type": "code",
   "execution_count": 34,
   "metadata": {
    "collapsed": true
   },
   "outputs": [],
   "source": [
    "def factor_marginalization(A, V):\n",
    "    variables = np.setdiff1d(A.variables, V)\n",
    "    ttl_variables = len(variables)\n",
    "    \n",
    "    mapB = get_member_index(variables, A.variables)\n",
    "    \n",
    "    cardinalities = np.zeros(ttl_variables, int)\n",
    "    cardinalities = A.cardinalities[mapB]\n",
    "    \n",
    "    ttl_values = np.prod(cardinalities)\n",
    "    values = np.zeros(ttl_values)\n",
    "    \n",
    "    B = factor(variables = variables,\n",
    "               cardinalities = cardinalities,\n",
    "               values = values)\n",
    "    \n",
    "    assignments = np.array([A.get_assignment_from_index(i) for i in range(len(A.values))])\n",
    "    indics = np.array([B.get_index_from_assignment(assignment[mapB]) for assignment in assignments])\n",
    "    \n",
    "    for i in range(len(B.values)):\n",
    "        value = np.sum(A.values[np.where(indics == i)])\n",
    "        B.values[i] = value\n",
    "        \n",
    "    return B"
   ]
  },
  {
   "cell_type": "code",
   "execution_count": 35,
   "metadata": {
    "collapsed": false
   },
   "outputs": [],
   "source": [
    "phi_X2_marginalized = factor_marginalization(phi_X2, ['X_2'])"
   ]
  },
  {
   "cell_type": "code",
   "execution_count": 36,
   "metadata": {
    "collapsed": false
   },
   "outputs": [
    {
     "data": {
      "text/html": [
       "<div>\n",
       "<table border=\"1\" class=\"dataframe\">\n",
       "  <thead>\n",
       "    <tr style=\"text-align: right;\">\n",
       "      <th></th>\n",
       "      <th>$X_1$</th>\n",
       "      <th>$\\phi(X_1)$</th>\n",
       "    </tr>\n",
       "  </thead>\n",
       "  <tbody>\n",
       "    <tr>\n",
       "      <th>0</th>\n",
       "      <td>0</td>\n",
       "      <td>1.0</td>\n",
       "    </tr>\n",
       "    <tr>\n",
       "      <th>1</th>\n",
       "      <td>1</td>\n",
       "      <td>1.0</td>\n",
       "    </tr>\n",
       "  </tbody>\n",
       "</table>\n",
       "</div>"
      ],
      "text/plain": [
       "   $X_1$  $\\phi(X_1)$\n",
       "0      0          1.0\n",
       "1      1          1.0"
      ]
     },
     "execution_count": 36,
     "metadata": {},
     "output_type": "execute_result"
    }
   ],
   "source": [
    "phi_X2_marginalized.get_table()"
   ]
  },
  {
   "cell_type": "markdown",
   "metadata": {},
   "source": [
    "# Unit Testing"
   ]
  },
  {
   "cell_type": "code",
   "execution_count": 37,
   "metadata": {
    "collapsed": false
   },
   "outputs": [],
   "source": [
    "def compare_factors(A, B):\n",
    "    ttl_variables_A = len(A.variables)\n",
    "    map_variables = get_member_index(A.variables, B.variables)\n",
    "    \n",
    "    # Compare variables\n",
    "    if np.array_equal(A.variables, B.variables[map_variables]):\n",
    "        print(\"%-58s%12s\" % (\"Variables:\", \"same\"))\n",
    "    else:\n",
    "        print(\"%-58s%12s\" % (\"Variables:\", \"DIFFERENT\"))\n",
    "    print(\"    A: \", A.variables)\n",
    "    print(\"    B: \", B.variables[map_variables])\n",
    "    \n",
    "    # Compare cardinalities\n",
    "    if np.array_equal(A.cardinalities, B.cardinalities[map_variables]):\n",
    "        print(\"%-58s%12s\" % (\"Cardinalities:\", \"same\"))\n",
    "    else:\n",
    "        print(\"%-58s%12s\" % (\"Cardinalities:\", \"DIFFERENT\"))\n",
    "    print(\"    A: \", A.cardinalities)\n",
    "    print(\"    B: \", B.cardinalities[map_variables])\n",
    "    \n",
    "    # Compare values\n",
    "    ttl_values = np.prod(A.cardinalities)\n",
    "    cart = cartesian([range(cardinality) for cardinality in A.cardinalities])\n",
    "    for i in range(ttl_values):\n",
    "        variables_assignments = [\"%s=%s\" % (A.variables[j], cart[i][j]) for j in range(ttl_variables_A)]\n",
    "        if math.isclose(A.get_value_of_assignment(cart[i]), \n",
    "                        B.get_value_of_assignment(cart[i][map_variables]),\n",
    "                        rel_tol=1e-15, abs_tol=0.0):\n",
    "            print(\"%-58s%12s\" % (\"Values(\" + \",\".join(variables_assignments) + \"):\", \"same\"))\n",
    "        else:\n",
    "            print(\"%-58s%12s\" % (\"Values(\" + \",\".join(variables_assignments) + \"):\", \"DIFFERENT\"))\n",
    "        \n",
    "        print(\"    A: \", A.get_value_of_assignment(cart[i]))\n",
    "        print(\"    B: \", B.get_value_of_assignment(cart[i][map_variables]))"
   ]
  },
  {
   "cell_type": "markdown",
   "metadata": {},
   "source": [
    "### Factor Product"
   ]
  },
  {
   "cell_type": "code",
   "execution_count": 38,
   "metadata": {
    "collapsed": true
   },
   "outputs": [],
   "source": [
    "phi_A_B = factor(variables = ['A', 'B'],\n",
    "                 cardinalities = [3, 2],\n",
    "                 values = [0.5, 0.8, 0.1, 0.0, 0.3, 0.9])\n",
    "\n",
    "phi_B_C = factor(variables = ['B', 'C'],\n",
    "                 cardinalities = [2, 2],\n",
    "                 values = [0.5, 0.7, 0.1, 0.2])\n",
    "\n",
    "phi_A_B_C_expected1 = factor(variables = ['A', 'B', 'C'],\n",
    "                             cardinalities = [3, 2, 2],\n",
    "                             values = [0.25, 0.35, 0.08, 0.16, 0.05, 0.07, 0.00, 0.00, 0.15, 0.21, 0.09, 0.18])\n",
    "\n",
    "phi_A_B_C_expected2 = factor(variables = ['B', 'A', 'C'],\n",
    "                             cardinalities = [2, 3, 2],\n",
    "                             values = [0.25, 0.35, 0.05, 0.07, 0.15, 0.21, 0.08, 0.16, 0.00, 0.00, 0.09, 0.18])"
   ]
  },
  {
   "cell_type": "code",
   "execution_count": 39,
   "metadata": {
    "collapsed": false
   },
   "outputs": [],
   "source": [
    "phi_A_B_C = factor_product(phi_A_B, phi_B_C)"
   ]
  },
  {
   "cell_type": "code",
   "execution_count": 40,
   "metadata": {
    "collapsed": false,
    "scrolled": false
   },
   "outputs": [
    {
     "name": "stdout",
     "output_type": "stream",
     "text": [
      "Variables:                                                        same\n",
      "    A:  ['A' 'B' 'C']\n",
      "    B:  ['A' 'B' 'C']\n",
      "Cardinalities:                                                    same\n",
      "    A:  [3 2 2]\n",
      "    B:  [3 2 2]\n",
      "Values(A=0,B=0,C=0):                                              same\n",
      "    A:  0.25\n",
      "    B:  0.25\n",
      "Values(A=0,B=0,C=1):                                              same\n",
      "    A:  0.35\n",
      "    B:  0.35\n",
      "Values(A=0,B=1,C=0):                                              same\n",
      "    A:  0.08\n",
      "    B:  0.08\n",
      "Values(A=0,B=1,C=1):                                              same\n",
      "    A:  0.16\n",
      "    B:  0.16\n",
      "Values(A=1,B=0,C=0):                                              same\n",
      "    A:  0.05\n",
      "    B:  0.05\n",
      "Values(A=1,B=0,C=1):                                              same\n",
      "    A:  0.07\n",
      "    B:  0.07\n",
      "Values(A=1,B=1,C=0):                                              same\n",
      "    A:  0.0\n",
      "    B:  0.0\n",
      "Values(A=1,B=1,C=1):                                              same\n",
      "    A:  0.0\n",
      "    B:  0.0\n",
      "Values(A=2,B=0,C=0):                                              same\n",
      "    A:  0.15\n",
      "    B:  0.15\n",
      "Values(A=2,B=0,C=1):                                              same\n",
      "    A:  0.21\n",
      "    B:  0.21\n",
      "Values(A=2,B=1,C=0):                                              same\n",
      "    A:  0.09\n",
      "    B:  0.09\n",
      "Values(A=2,B=1,C=1):                                              same\n",
      "    A:  0.18\n",
      "    B:  0.18\n"
     ]
    }
   ],
   "source": [
    "compare_factors(phi_A_B_C, phi_A_B_C_expected1)"
   ]
  },
  {
   "cell_type": "code",
   "execution_count": 41,
   "metadata": {
    "collapsed": false,
    "scrolled": false
   },
   "outputs": [
    {
     "name": "stdout",
     "output_type": "stream",
     "text": [
      "Variables:                                                        same\n",
      "    A:  ['A' 'B' 'C']\n",
      "    B:  ['A' 'B' 'C']\n",
      "Cardinalities:                                                    same\n",
      "    A:  [3 2 2]\n",
      "    B:  [3 2 2]\n",
      "Values(A=0,B=0,C=0):                                              same\n",
      "    A:  0.25\n",
      "    B:  0.25\n",
      "Values(A=0,B=0,C=1):                                              same\n",
      "    A:  0.35\n",
      "    B:  0.35\n",
      "Values(A=0,B=1,C=0):                                              same\n",
      "    A:  0.08\n",
      "    B:  0.08\n",
      "Values(A=0,B=1,C=1):                                              same\n",
      "    A:  0.16\n",
      "    B:  0.16\n",
      "Values(A=1,B=0,C=0):                                              same\n",
      "    A:  0.05\n",
      "    B:  0.05\n",
      "Values(A=1,B=0,C=1):                                              same\n",
      "    A:  0.07\n",
      "    B:  0.07\n",
      "Values(A=1,B=1,C=0):                                              same\n",
      "    A:  0.0\n",
      "    B:  0.0\n",
      "Values(A=1,B=1,C=1):                                              same\n",
      "    A:  0.0\n",
      "    B:  0.0\n",
      "Values(A=2,B=0,C=0):                                              same\n",
      "    A:  0.15\n",
      "    B:  0.15\n",
      "Values(A=2,B=0,C=1):                                              same\n",
      "    A:  0.21\n",
      "    B:  0.21\n",
      "Values(A=2,B=1,C=0):                                              same\n",
      "    A:  0.09\n",
      "    B:  0.09\n",
      "Values(A=2,B=1,C=1):                                              same\n",
      "    A:  0.18\n",
      "    B:  0.18\n"
     ]
    }
   ],
   "source": [
    "compare_factors(phi_A_B_C, phi_A_B_C_expected2)"
   ]
  },
  {
   "cell_type": "markdown",
   "metadata": {},
   "source": [
    "### Factor Marginalization"
   ]
  },
  {
   "cell_type": "code",
   "execution_count": 42,
   "metadata": {
    "collapsed": true
   },
   "outputs": [],
   "source": [
    "phi_A_B_C = factor(variables = ['A', 'B', 'C'],\n",
    "                   cardinalities = [3, 2, 2],\n",
    "                   values = [0.25, 0.35, 0.08, 0.16, 0.05, 0.07, 0.00, 0.00, 0.15, 0.21, 0.09, 0.18])\n",
    "\n",
    "phi_A_C_expected = factor(variables = ['A', 'C'],\n",
    "                          cardinalities = [3, 2],\n",
    "                          values = [0.33, 0.51, 0.05, 0.07, 0.24, 0.39])"
   ]
  },
  {
   "cell_type": "code",
   "execution_count": 43,
   "metadata": {
    "collapsed": false
   },
   "outputs": [],
   "source": [
    "phi_A_C = factor_marginalization(phi_A_B_C, ['B'])"
   ]
  },
  {
   "cell_type": "code",
   "execution_count": 44,
   "metadata": {
    "collapsed": false
   },
   "outputs": [
    {
     "name": "stdout",
     "output_type": "stream",
     "text": [
      "Variables:                                                        same\n",
      "    A:  ['A' 'C']\n",
      "    B:  ['A' 'C']\n",
      "Cardinalities:                                                    same\n",
      "    A:  [3 2]\n",
      "    B:  [3 2]\n",
      "Values(A=0,C=0):                                                  same\n",
      "    A:  0.33\n",
      "    B:  0.33\n",
      "Values(A=0,C=1):                                                  same\n",
      "    A:  0.51\n",
      "    B:  0.51\n",
      "Values(A=1,C=0):                                                  same\n",
      "    A:  0.05\n",
      "    B:  0.05\n",
      "Values(A=1,C=1):                                                  same\n",
      "    A:  0.07\n",
      "    B:  0.07\n",
      "Values(A=2,C=0):                                                  same\n",
      "    A:  0.24\n",
      "    B:  0.24\n",
      "Values(A=2,C=1):                                                  same\n",
      "    A:  0.39\n",
      "    B:  0.39\n"
     ]
    }
   ],
   "source": [
    "compare_factors(phi_A_C, phi_A_C_expected)"
   ]
  },
  {
   "cell_type": "markdown",
   "metadata": {},
   "source": [
    "# References"
   ]
  },
  {
   "cell_type": "markdown",
   "metadata": {},
   "source": [
    "1. D. Koller, 2016. _Probabilistic Graphical Models 1: Representation_. Week 1: Introduction and Overview. Stanford University. Coursera. https://www.coursera.org/learn/probabilistic-graphical-models\n",
    "2. D. Koller and N. Friedman, 2009. _Probabilistic Graphical Models: Principles and Techniques_. MIT Press.\n",
    "3. D. Koller, 2016. _Probabilistic Graphical Models 1: Representation_. Week 1 Honors Programming Assignment: Simple BN Knowledge Engineering. Stanford University. Coursera. https://www.coursera.org/learn/probabilistic-graphical-models"
   ]
  }
 ],
 "metadata": {
  "kernelspec": {
   "display_name": "Python 3",
   "language": "python",
   "name": "python3"
  },
  "language_info": {
   "codemirror_mode": {
    "name": "ipython",
    "version": 3
   },
   "file_extension": ".py",
   "mimetype": "text/x-python",
   "name": "python",
   "nbconvert_exporter": "python",
   "pygments_lexer": "ipython3",
   "version": "3.5.2"
  }
 },
 "nbformat": 4,
 "nbformat_minor": 0
}
